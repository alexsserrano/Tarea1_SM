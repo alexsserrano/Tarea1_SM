{
 "cells": [
  {
   "cell_type": "markdown",
   "metadata": {},
   "source": [
    "## PRESENTACIÓN PERSONAL\n",
    "Mi nombre es Alejandro Serrano, soy el cofundador de [Kuit Kombucha](https://www.kuit.mx/), una empresa dedicada a mejorar la vida de las personas por medio de una bebida saludable. He vivido en España, Nueva Zelanda y México. Desde que viví en Nueva Zelanda nació mi pasión por la kombucha y decidí traerla a México.\n",
    "\n",
    "He viajado a más de 20 países, lo que me ha permitido:\n",
    "- Vivir un gran número de experiencias\n",
    "- Conocerme más a mi mismo\n",
    "- Crecer personalmente\n",
    "- Iniciar un negocio  \n",
    "\n",
    "Desde que era pequeño me gustaba escalar, subirme a los árboles y prácticamente a todos lados. También practicaba deportes, estuve en selección Jalisco de natación, patinaje y racquetbol. Actualmente mi hobby deportivo es la escalada.\n",
    "\n",
    "Actualmente estudio Ingeniería Financiera, una carrera que me esta gustando mucho y a la que le veo mucho futuro\n"
   ]
  },
  {
   "cell_type": "code",
   "execution_count": null,
   "metadata": {},
   "outputs": [],
   "source": []
  },
  {
   "cell_type": "code",
   "execution_count": null,
   "metadata": {},
   "outputs": [],
   "source": []
  }
 ],
 "metadata": {
  "kernelspec": {
   "display_name": "Python 3",
   "language": "python",
   "name": "python3"
  },
  "language_info": {
   "codemirror_mode": {
    "name": "ipython",
    "version": 3
   },
   "file_extension": ".py",
   "mimetype": "text/x-python",
   "name": "python",
   "nbconvert_exporter": "python",
   "pygments_lexer": "ipython3",
   "version": "3.7.3"
  }
 },
 "nbformat": 4,
 "nbformat_minor": 2
}
