{
 "cells": [
  {
   "cell_type": "markdown",
   "metadata": {},
   "source": [
    "## RESUMEN 2\n",
    "Pyhton es el lenguaje de programación con mayor crecimiento en el mundo, muchos expertos dicen que esto se debe a la cantidad robusta de librerias con las que cuenta, lo que convierten a este lenguaje en algo dinámico y rápido de programar, esta orientado a objetos y te permite realizar todo tipo de tareas, crear sitios web, desarrollo de apps, creación de diferentes modelos de información, etc.  \n",
    "  \n",
    "Las tres principales razones por las que Pyhton ha crecido tanto son las siguientes: \n",
    "- Pyhton es rankeado como el **lenguaje de programación más fácil de aprender**\n",
    "- La **explosión de IA, machine learning y ciencia de datos**, son motivos por los cuales usar Pyhton\n",
    "- Una **gran comunidad de programadores**, todos dispuestos a ayudar, generar y mejorar librerias"
   ]
  },
  {
   "cell_type": "code",
   "execution_count": null,
   "metadata": {},
   "outputs": [],
   "source": []
  }
 ],
 "metadata": {
  "kernelspec": {
   "display_name": "Python 3",
   "language": "python",
   "name": "python3"
  },
  "language_info": {
   "codemirror_mode": {
    "name": "ipython",
    "version": 3
   },
   "file_extension": ".py",
   "mimetype": "text/x-python",
   "name": "python",
   "nbconvert_exporter": "python",
   "pygments_lexer": "ipython3",
   "version": "3.7.3"
  }
 },
 "nbformat": 4,
 "nbformat_minor": 2
}
