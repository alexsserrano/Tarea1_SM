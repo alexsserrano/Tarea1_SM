{
 "cells": [
  {
   "cell_type": "markdown",
   "metadata": {},
   "source": [
    "## *RESUMEN 1*\n",
    "**Python** ha estado dominando por 30 años, es un lenguaje sólido y respetable, este abarca desde uso general hasta niveles avanzados de programación, tambien cuenta de lo llamado *streamlined syntax*. Es utilizado para la creación de *back-end code*, otro gran uso es el de *Machine learning* el cual se puede implementar en algoritmos para detectar patrones, ejemplos de esto puede ser reconocimiento facial, de voz, y sistemas de recomendación como Youtube, Spotify, Amazon, etc.  \n",
    "  \n",
    "  \n",
    "Es por esto que invertir tiempo y dinero en aprender Python es una buena idea!  \n",
    "  \n",
    "  **Fuente bibliográfica**\n",
    "  - Wing(s.f.). Spotlight: [Why Python Training Is Totally Worth It](http://anewdomain.net/spotlight-should-you-invest-in-python-training/). Consultado el 1 de junio de 2019."
   ]
  },
  {
   "cell_type": "code",
   "execution_count": null,
   "metadata": {},
   "outputs": [],
   "source": []
  }
 ],
 "metadata": {
  "kernelspec": {
   "display_name": "Python 3",
   "language": "python",
   "name": "python3"
  },
  "language_info": {
   "codemirror_mode": {
    "name": "ipython",
    "version": 3
   },
   "file_extension": ".py",
   "mimetype": "text/x-python",
   "name": "python",
   "nbconvert_exporter": "python",
   "pygments_lexer": "ipython3",
   "version": "3.7.3"
  }
 },
 "nbformat": 4,
 "nbformat_minor": 2
}
